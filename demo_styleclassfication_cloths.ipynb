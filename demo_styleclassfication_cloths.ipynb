{
  "cells": [
    {
      "cell_type": "markdown",
      "metadata": {
        "id": "view-in-github",
        "colab_type": "text"
      },
      "source": [
        "<a href=\"https://colab.research.google.com/github/likeaAI/ML_3sdaq/blob/master/demo_styleclassfication_cloths.ipynb\" target=\"_parent\"><img src=\"https://colab.research.google.com/assets/colab-badge.svg\" alt=\"Open In Colab\"/></a>"
      ]
    },
    {
      "cell_type": "code",
      "source": [
        "import torch\n",
        "from glob import glob"
      ],
      "metadata": {
        "id": "GqLVNHgIAUPm"
      },
      "execution_count": null,
      "outputs": []
    },
    {
      "cell_type": "code",
      "execution_count": null,
      "metadata": {
        "colab": {
          "base_uri": "https://localhost:8080/",
          "height": 1000
        },
        "id": "VvVH0717q0I1",
        "outputId": "d927f331-7170-4e4d-f0a2-dd1d566ca3fa"
      },
      "outputs": [
        {
          "output_type": "stream",
          "name": "stdout",
          "text": [
            "Looking in indexes: https://pypi.org/simple, https://us-python.pkg.dev/colab-wheels/public/simple/\n",
            "Collecting roboflow\n",
            "  Downloading roboflow-0.2.4.tar.gz (15 kB)\n",
            "Collecting certifi==2021.5.30\n",
            "  Downloading certifi-2021.5.30-py2.py3-none-any.whl (145 kB)\n",
            "\u001b[K     |████████████████████████████████| 145 kB 5.0 MB/s \n",
            "\u001b[?25hCollecting chardet==4.0.0\n",
            "  Downloading chardet-4.0.0-py2.py3-none-any.whl (178 kB)\n",
            "\u001b[K     |████████████████████████████████| 178 kB 44.1 MB/s \n",
            "\u001b[?25hCollecting cycler==0.10.0\n",
            "  Downloading cycler-0.10.0-py2.py3-none-any.whl (6.5 kB)\n",
            "Requirement already satisfied: idna==2.10 in /usr/local/lib/python3.7/dist-packages (from roboflow) (2.10)\n",
            "Collecting kiwisolver==1.3.1\n",
            "  Downloading kiwisolver-1.3.1-cp37-cp37m-manylinux1_x86_64.whl (1.1 MB)\n",
            "\u001b[K     |████████████████████████████████| 1.1 MB 55.6 MB/s \n",
            "\u001b[?25hRequirement already satisfied: matplotlib in /usr/local/lib/python3.7/dist-packages (from roboflow) (3.2.2)\n",
            "Requirement already satisfied: numpy>=1.18.5 in /usr/local/lib/python3.7/dist-packages (from roboflow) (1.21.6)\n",
            "Requirement already satisfied: opencv-python>=4.1.2 in /usr/local/lib/python3.7/dist-packages (from roboflow) (4.1.2.30)\n",
            "Requirement already satisfied: Pillow>=7.1.2 in /usr/local/lib/python3.7/dist-packages (from roboflow) (7.1.2)\n",
            "Collecting pyparsing==2.4.7\n",
            "  Downloading pyparsing-2.4.7-py2.py3-none-any.whl (67 kB)\n",
            "\u001b[K     |████████████████████████████████| 67 kB 6.8 MB/s \n",
            "\u001b[?25hRequirement already satisfied: python-dateutil in /usr/local/lib/python3.7/dist-packages (from roboflow) (2.8.2)\n",
            "Collecting python-dotenv\n",
            "  Downloading python_dotenv-0.20.0-py3-none-any.whl (17 kB)\n",
            "Requirement already satisfied: requests in /usr/local/lib/python3.7/dist-packages (from roboflow) (2.23.0)\n",
            "Collecting requests_toolbelt\n",
            "  Downloading requests_toolbelt-0.9.1-py2.py3-none-any.whl (54 kB)\n",
            "\u001b[K     |████████████████████████████████| 54 kB 2.3 MB/s \n",
            "\u001b[?25hRequirement already satisfied: six in /usr/local/lib/python3.7/dist-packages (from roboflow) (1.15.0)\n",
            "Collecting urllib3==1.26.6\n",
            "  Downloading urllib3-1.26.6-py2.py3-none-any.whl (138 kB)\n",
            "\u001b[K     |████████████████████████████████| 138 kB 62.1 MB/s \n",
            "\u001b[?25hCollecting wget\n",
            "  Downloading wget-3.2.zip (10 kB)\n",
            "Requirement already satisfied: tqdm>=4.41.0 in /usr/local/lib/python3.7/dist-packages (from roboflow) (4.64.0)\n",
            "Collecting PyYAML>=5.3.1\n",
            "  Downloading PyYAML-6.0-cp37-cp37m-manylinux_2_5_x86_64.manylinux1_x86_64.manylinux_2_12_x86_64.manylinux2010_x86_64.whl (596 kB)\n",
            "\u001b[K     |████████████████████████████████| 596 kB 45.3 MB/s \n",
            "\u001b[?25hCollecting requests\n",
            "  Downloading requests-2.27.1-py2.py3-none-any.whl (63 kB)\n",
            "\u001b[K     |████████████████████████████████| 63 kB 2.0 MB/s \n",
            "\u001b[?25hRequirement already satisfied: charset-normalizer~=2.0.0 in /usr/local/lib/python3.7/dist-packages (from requests->roboflow) (2.0.12)\n",
            "Building wheels for collected packages: roboflow, wget\n",
            "  Building wheel for roboflow (setup.py) ... \u001b[?25l\u001b[?25hdone\n",
            "  Created wheel for roboflow: filename=roboflow-0.2.4-py3-none-any.whl size=21356 sha256=95ec7223f571199f5f0e22700af8b5a62f30a29d19cd10664b0cb3d5bf724732\n",
            "  Stored in directory: /root/.cache/pip/wheels/b7/2c/60/3733c0e323b1d7aec00f852264314bf6c48192c8e1dc92b3ee\n",
            "  Building wheel for wget (setup.py) ... \u001b[?25l\u001b[?25hdone\n",
            "  Created wheel for wget: filename=wget-3.2-py3-none-any.whl size=9675 sha256=515d9cf1c98a2825c71fc0bbf15907eb0373db69652a4734a5bacbc5e42edcae\n",
            "  Stored in directory: /root/.cache/pip/wheels/a1/b6/7c/0e63e34eb06634181c63adacca38b79ff8f35c37e3c13e3c02\n",
            "Successfully built roboflow wget\n",
            "Installing collected packages: urllib3, certifi, requests, pyparsing, kiwisolver, cycler, wget, requests-toolbelt, PyYAML, python-dotenv, chardet, roboflow\n",
            "  Attempting uninstall: urllib3\n",
            "    Found existing installation: urllib3 1.24.3\n",
            "    Uninstalling urllib3-1.24.3:\n",
            "      Successfully uninstalled urllib3-1.24.3\n",
            "  Attempting uninstall: certifi\n",
            "    Found existing installation: certifi 2022.5.18.1\n",
            "    Uninstalling certifi-2022.5.18.1:\n",
            "      Successfully uninstalled certifi-2022.5.18.1\n",
            "  Attempting uninstall: requests\n",
            "    Found existing installation: requests 2.23.0\n",
            "    Uninstalling requests-2.23.0:\n",
            "      Successfully uninstalled requests-2.23.0\n",
            "  Attempting uninstall: pyparsing\n",
            "    Found existing installation: pyparsing 3.0.9\n",
            "    Uninstalling pyparsing-3.0.9:\n",
            "      Successfully uninstalled pyparsing-3.0.9\n",
            "  Attempting uninstall: kiwisolver\n",
            "    Found existing installation: kiwisolver 1.4.2\n",
            "    Uninstalling kiwisolver-1.4.2:\n",
            "      Successfully uninstalled kiwisolver-1.4.2\n",
            "  Attempting uninstall: cycler\n",
            "    Found existing installation: cycler 0.11.0\n",
            "    Uninstalling cycler-0.11.0:\n",
            "      Successfully uninstalled cycler-0.11.0\n",
            "  Attempting uninstall: PyYAML\n",
            "    Found existing installation: PyYAML 3.13\n",
            "    Uninstalling PyYAML-3.13:\n",
            "      Successfully uninstalled PyYAML-3.13\n",
            "  Attempting uninstall: chardet\n",
            "    Found existing installation: chardet 3.0.4\n",
            "    Uninstalling chardet-3.0.4:\n",
            "      Successfully uninstalled chardet-3.0.4\n",
            "\u001b[31mERROR: pip's dependency resolver does not currently take into account all the packages that are installed. This behaviour is the source of the following dependency conflicts.\n",
            "google-colab 1.0.0 requires requests~=2.23.0, but you have requests 2.27.1 which is incompatible.\n",
            "datascience 0.10.6 requires folium==0.2.1, but you have folium 0.8.3 which is incompatible.\n",
            "albumentations 0.1.12 requires imgaug<0.2.7,>=0.2.5, but you have imgaug 0.2.9 which is incompatible.\u001b[0m\n",
            "Successfully installed PyYAML-6.0 certifi-2021.5.30 chardet-4.0.0 cycler-0.10.0 kiwisolver-1.3.1 pyparsing-2.4.7 python-dotenv-0.20.0 requests-2.27.1 requests-toolbelt-0.9.1 roboflow-0.2.4 urllib3-1.26.6 wget-3.2\n"
          ]
        },
        {
          "output_type": "display_data",
          "data": {
            "application/vnd.colab-display-data+json": {
              "pip_warning": {
                "packages": [
                  "cycler",
                  "kiwisolver",
                  "pyparsing"
                ]
              }
            }
          },
          "metadata": {}
        },
        {
          "output_type": "stream",
          "name": "stdout",
          "text": [
            "loading Roboflow workspace...\n",
            "loading Roboflow project...\n",
            "Downloading Dataset Version Zip in test03-3 to yolov5pytorch: 100% [64552735 / 64552735] bytes\n"
          ]
        },
        {
          "output_type": "stream",
          "name": "stderr",
          "text": [
            "Extracting Dataset Version Zip to test03-3 in yolov5pytorch:: 100%|██████████| 2297/2297 [00:02<00:00, 938.77it/s] \n"
          ]
        }
      ],
      "source": [
        "!pip install roboflow\n",
        "\n",
        "from roboflow import Roboflow\n",
        "rf = Roboflow(api_key=\"V1xrnYqaT6VW3skv3nh8\")\n",
        "project = rf.workspace(\"example01\").project(\"test03\")\n",
        "dataset = project.version(3).download(\"yolov5\")"
      ]
    },
    {
      "cell_type": "code",
      "source": [
        "!nvidia-smi"
      ],
      "metadata": {
        "colab": {
          "base_uri": "https://localhost:8080/"
        },
        "id": "tr4C2Rc3zh3C",
        "outputId": "271dcd8c-daf4-482e-908a-8ae0a77ba4b6"
      },
      "execution_count": null,
      "outputs": [
        {
          "output_type": "stream",
          "name": "stdout",
          "text": [
            "Thu Jun  2 07:05:30 2022       \n",
            "+-----------------------------------------------------------------------------+\n",
            "| NVIDIA-SMI 460.32.03    Driver Version: 460.32.03    CUDA Version: 11.2     |\n",
            "|-------------------------------+----------------------+----------------------+\n",
            "| GPU  Name        Persistence-M| Bus-Id        Disp.A | Volatile Uncorr. ECC |\n",
            "| Fan  Temp  Perf  Pwr:Usage/Cap|         Memory-Usage | GPU-Util  Compute M. |\n",
            "|                               |                      |               MIG M. |\n",
            "|===============================+======================+======================|\n",
            "|   0  Tesla P100-PCIE...  Off  | 00000000:00:04.0 Off |                    0 |\n",
            "| N/A   37C    P0    26W / 250W |      0MiB / 16280MiB |      0%      Default |\n",
            "|                               |                      |                  N/A |\n",
            "+-------------------------------+----------------------+----------------------+\n",
            "                                                                               \n",
            "+-----------------------------------------------------------------------------+\n",
            "| Processes:                                                                  |\n",
            "|  GPU   GI   CI        PID   Type   Process name                  GPU Memory |\n",
            "|        ID   ID                                                   Usage      |\n",
            "|=============================================================================|\n",
            "|  No running processes found                                                 |\n",
            "+-----------------------------------------------------------------------------+\n"
          ]
        }
      ]
    },
    {
      "cell_type": "code",
      "execution_count": null,
      "metadata": {
        "colab": {
          "base_uri": "https://localhost:8080/"
        },
        "id": "aLt27QK3wAiT",
        "outputId": "acea2118-b7e0-486c-8cfb-0f2acf404ef2"
      },
      "outputs": [
        {
          "output_type": "stream",
          "name": "stdout",
          "text": [
            "/content\n",
            "Cloning into 'yolov5'...\n",
            "remote: Enumerating objects: 12169, done.\u001b[K\n",
            "remote: Counting objects: 100% (2/2), done.\u001b[K\n",
            "remote: Compressing objects: 100% (2/2), done.\u001b[K\n",
            "remote: Total 12169 (delta 0), reused 2 (delta 0), pack-reused 12167\u001b[K\n",
            "Receiving objects: 100% (12169/12169), 11.95 MiB | 13.20 MiB/s, done.\n",
            "Resolving deltas: 100% (8427/8427), done.\n"
          ]
        }
      ],
      "source": [
        "# yolov5 다운로드 \n",
        "%cd /content\n",
        "!git clone https://github.com/ultralytics/yolov5.git"
      ]
    },
    {
      "cell_type": "code",
      "execution_count": null,
      "metadata": {
        "colab": {
          "base_uri": "https://localhost:8080/"
        },
        "id": "KvsJTtufwDYO",
        "outputId": "37269b32-fa2a-466d-e362-762f4131ad90"
      },
      "outputs": [
        {
          "output_type": "stream",
          "name": "stdout",
          "text": [
            "1089 55 0\n",
            "1089 55 0\n"
          ]
        }
      ],
      "source": [
        "# 이미지 list \n",
        "train_img_list = glob('/content/test03-3/train/images/*.jpg')\n",
        "val_img_list = glob('/content/test03-3/valid/images/*.jpg')\n",
        "test_img_list = glob('/content/test03-3/test/images/*.jpg')\n",
        "\n",
        "# label list \n",
        "train_label_list = glob('/content/test03-3/train/labels/*.txt')\n",
        "val_label_list = glob('/content/test03-3/valid/labels/*.txt')\n",
        "test_label_list = glob('/content/test03-3/test/labels/*.txt')\n",
        "\n",
        "print(len(train_img_list) , len(val_img_list) , len(test_img_list))\n",
        "print(len(train_label_list) , len(val_label_list) , len(test_label_list))"
      ]
    },
    {
      "cell_type": "code",
      "execution_count": null,
      "metadata": {
        "id": "BcrE3MIewDay"
      },
      "outputs": [],
      "source": [
        "with open('/content/test03-3/train.txt' , 'w') as f : \n",
        "    f.write('\\n'.join(train_img_list))\n",
        "with open('/content/test03-3/val.txt' , 'w') as f : \n",
        "    f.write('\\n'.join(val_img_list))\n",
        "with open('/content/test03-3/test.txt' , 'w') as f : \n",
        "    f.write('\\n'.join(test_img_list))\n",
        "\n",
        "with open('/content/test03-3/train.txt' , 'a') as f : \n",
        "    f.write('\\n'.join(train_label_list))\n",
        "with open('/content/test03-3/val.txt' , 'a') as f : \n",
        "    f.write('\\n'.join(val_label_list))\n",
        "with open('/content/test03-3/test.txt' , 'a') as f : \n",
        "    f.write('\\n'.join(test_label_list))"
      ]
    },
    {
      "cell_type": "code",
      "execution_count": null,
      "metadata": {
        "colab": {
          "base_uri": "https://localhost:8080/"
        },
        "id": "FwOrpulmwDdV",
        "outputId": "7f1c7328-2f96-4ae3-976e-34f422eefa98"
      },
      "outputs": [
        {
          "output_type": "stream",
          "name": "stdout",
          "text": [
            "{'names': ['bottom', 'bottom_short', 'top'], 'nc': 3, 'train': '/content/test03-3/train.txt', 'val': '/content/test03-3/val.txt', 'test': '/content/test03-3/test.txt'}\n"
          ]
        }
      ],
      "source": [
        "import yaml\n",
        "\n",
        "with open('/content/test03-3/data.yaml' , 'r') as f : \n",
        "    data = yaml.safe_load(f) # yaml.load() x => yaml.safe_load(f)\n",
        "\n",
        "\n",
        "data['train'] = '/content/test03-3/train.txt'   \n",
        "data['val'] = '/content/test03-3/val.txt'\n",
        "data['test'] = '/content/test03-3/test.txt'\n",
        "\n",
        "   \n",
        "\n",
        "with open ('/content/test03-3/data.yaml' , 'w') as f : \n",
        "    yaml.dump(data, f )\n",
        "\n",
        "print(data)"
      ]
    },
    {
      "cell_type": "code",
      "source": [
        "%cat /content/test03-3/data.yaml"
      ],
      "metadata": {
        "colab": {
          "base_uri": "https://localhost:8080/"
        },
        "id": "rxqIuwdy6zKt",
        "outputId": "ecb2b8e4-2b68-4edf-e56d-b4f1e2d8c7c1"
      },
      "execution_count": null,
      "outputs": [
        {
          "output_type": "stream",
          "name": "stdout",
          "text": [
            "names:\n",
            "- bottom\n",
            "- bottom_short\n",
            "- top\n",
            "nc: 3\n",
            "test: /content/test03-3/test.txt\n",
            "train: /content/test03-3/train.txt\n",
            "val: /content/test03-3/val.txt\n"
          ]
        }
      ]
    },
    {
      "cell_type": "code",
      "execution_count": null,
      "metadata": {
        "colab": {
          "base_uri": "https://localhost:8080/"
        },
        "id": "Pw9HfiFLwDf9",
        "outputId": "e149f08c-1985-4906-bbd8-a13744b41e52"
      },
      "outputs": [
        {
          "output_type": "stream",
          "name": "stdout",
          "text": [
            "/content/yolov5\n",
            "\u001b[34m\u001b[1mtrain: \u001b[0mweights=yolov5l.pt, cfg=./models/yolov5l.yaml, data=/content/test03-3/data.yaml, hyp=data/hyps/hyp.scratch-low.yaml, epochs=35, batch_size=50, imgsz=416, rect=False, resume=False, nosave=False, noval=False, noautoanchor=False, noplots=False, evolve=None, bucket=, cache=None, image_weights=False, device=, multi_scale=False, single_cls=False, optimizer=SGD, sync_bn=False, workers=8, project=runs/train, name=test03_result, exist_ok=False, quad=False, cos_lr=False, label_smoothing=0.0, patience=100, freeze=[0], save_period=-1, local_rank=-1, entity=None, upload_dataset=False, bbox_interval=-1, artifact_alias=latest\n",
            "\u001b[34m\u001b[1mgithub: \u001b[0mup to date with https://github.com/ultralytics/yolov5 ✅\n",
            "YOLOv5 🚀 v6.1-243-g7cef03d Python-3.7.13 torch-1.11.0+cu113 CUDA:0 (Tesla P100-PCIE-16GB, 16281MiB)\n",
            "\n",
            "\u001b[34m\u001b[1mhyperparameters: \u001b[0mlr0=0.01, lrf=0.01, momentum=0.937, weight_decay=0.0005, warmup_epochs=3.0, warmup_momentum=0.8, warmup_bias_lr=0.1, box=0.05, cls=0.5, cls_pw=1.0, obj=1.0, obj_pw=1.0, iou_t=0.2, anchor_t=4.0, fl_gamma=0.0, hsv_h=0.015, hsv_s=0.7, hsv_v=0.4, degrees=0.0, translate=0.1, scale=0.5, shear=0.0, perspective=0.0, flipud=0.0, fliplr=0.5, mosaic=1.0, mixup=0.0, copy_paste=0.0\n",
            "\u001b[34m\u001b[1mWeights & Biases: \u001b[0mrun 'pip install wandb' to automatically track and visualize YOLOv5 🚀 runs (RECOMMENDED)\n",
            "\u001b[34m\u001b[1mTensorBoard: \u001b[0mStart with 'tensorboard --logdir runs/train', view at http://localhost:6006/\n",
            "Overriding model.yaml nc=80 with nc=3\n",
            "\n",
            "                 from  n    params  module                                  arguments                     \n",
            "  0                -1  1      7040  models.common.Conv                      [3, 64, 6, 2, 2]              \n",
            "  1                -1  1     73984  models.common.Conv                      [64, 128, 3, 2]               \n",
            "  2                -1  3    156928  models.common.C3                        [128, 128, 3]                 \n",
            "  3                -1  1    295424  models.common.Conv                      [128, 256, 3, 2]              \n",
            "  4                -1  6   1118208  models.common.C3                        [256, 256, 6]                 \n",
            "  5                -1  1   1180672  models.common.Conv                      [256, 512, 3, 2]              \n",
            "  6                -1  9   6433792  models.common.C3                        [512, 512, 9]                 \n",
            "  7                -1  1   4720640  models.common.Conv                      [512, 1024, 3, 2]             \n",
            "  8                -1  3   9971712  models.common.C3                        [1024, 1024, 3]               \n",
            "  9                -1  1   2624512  models.common.SPPF                      [1024, 1024, 5]               \n",
            " 10                -1  1    525312  models.common.Conv                      [1024, 512, 1, 1]             \n",
            " 11                -1  1         0  torch.nn.modules.upsampling.Upsample    [None, 2, 'nearest']          \n",
            " 12           [-1, 6]  1         0  models.common.Concat                    [1]                           \n",
            " 13                -1  3   2757632  models.common.C3                        [1024, 512, 3, False]         \n",
            " 14                -1  1    131584  models.common.Conv                      [512, 256, 1, 1]              \n",
            " 15                -1  1         0  torch.nn.modules.upsampling.Upsample    [None, 2, 'nearest']          \n",
            " 16           [-1, 4]  1         0  models.common.Concat                    [1]                           \n",
            " 17                -1  3    690688  models.common.C3                        [512, 256, 3, False]          \n",
            " 18                -1  1    590336  models.common.Conv                      [256, 256, 3, 2]              \n",
            " 19          [-1, 14]  1         0  models.common.Concat                    [1]                           \n",
            " 20                -1  3   2495488  models.common.C3                        [512, 512, 3, False]          \n",
            " 21                -1  1   2360320  models.common.Conv                      [512, 512, 3, 2]              \n",
            " 22          [-1, 10]  1         0  models.common.Concat                    [1]                           \n",
            " 23                -1  3   9971712  models.common.C3                        [1024, 1024, 3, False]        \n",
            " 24      [17, 20, 23]  1     43080  models.yolo.Detect                      [3, [[10, 13, 16, 30, 33, 23], [30, 61, 62, 45, 59, 119], [116, 90, 156, 198, 373, 326]], [256, 512, 1024]]\n",
            "YOLOv5l summary: 468 layers, 46149064 parameters, 46149064 gradients\n",
            "\n",
            "Transferred 606/613 items from yolov5l.pt\n",
            "\u001b[34m\u001b[1mAMP: \u001b[0mchecks passed ✅\n",
            "Scaled weight_decay = 0.000390625\n",
            "\u001b[34m\u001b[1moptimizer:\u001b[0m SGD with parameter groups 101 weight (no decay), 104 weight, 104 bias\n",
            "\u001b[34m\u001b[1malbumentations: \u001b[0mversion 1.0.3 required by YOLOv5, but version 0.1.12 is currently installed\n",
            "\u001b[34m\u001b[1mtrain: \u001b[0mScanning '/content/test03-3/train.cache' images and labels... 1088 found, 0 missing, 0 empty, 0 corrupt: 100% 1088/1088 [00:00<?, ?it/s]\n",
            "\u001b[34m\u001b[1mval: \u001b[0mScanning '/content/test03-3/val.cache' images and labels... 54 found, 0 missing, 0 empty, 0 corrupt: 100% 54/54 [00:00<?, ?it/s]\n",
            "Plotting labels to runs/train/test03_result4/labels.jpg... \n",
            "\n",
            "\u001b[34m\u001b[1mAutoAnchor: \u001b[0m3.71 anchors/target, 1.000 Best Possible Recall (BPR). Current anchors are a good fit to dataset ✅\n",
            "Image sizes 416 train, 416 val\n",
            "Using 2 dataloader workers\n",
            "Logging results to \u001b[1mruns/train/test03_result4\u001b[0m\n",
            "Starting training for 35 epochs...\n",
            "\n",
            "     Epoch   gpu_mem       box       obj       cls    labels  img_size\n",
            "      0/34     12.8G   0.08576   0.02607   0.03719       106       416: 100% 22/22 [00:40<00:00,  1.84s/it]\n",
            "               Class     Images     Labels          P          R     mAP@.5 mAP@.5:.95: 100% 1/1 [00:00<00:00,  1.16it/s]\n",
            "                 all         54         61      0.547       0.22       0.37      0.179\n",
            "\n",
            "     Epoch   gpu_mem       box       obj       cls    labels  img_size\n",
            "      1/34     12.8G   0.05489    0.0248   0.02622       106       416: 100% 22/22 [00:37<00:00,  1.71s/it]\n",
            "               Class     Images     Labels          P          R     mAP@.5 mAP@.5:.95: 100% 1/1 [00:00<00:00,  1.37it/s]\n",
            "                 all         54         61      0.655      0.618      0.481      0.182\n",
            "\n",
            "     Epoch   gpu_mem       box       obj       cls    labels  img_size\n",
            "      2/34     12.8G   0.05058   0.01946   0.01821       109       416: 100% 22/22 [00:37<00:00,  1.72s/it]\n",
            "               Class     Images     Labels          P          R     mAP@.5 mAP@.5:.95: 100% 1/1 [00:00<00:00,  1.39it/s]\n",
            "                 all         54         61      0.729      0.353      0.561      0.234\n",
            "\n",
            "     Epoch   gpu_mem       box       obj       cls    labels  img_size\n",
            "      3/34     12.8G   0.04759   0.01793   0.01486       113       416: 100% 22/22 [00:37<00:00,  1.71s/it]\n",
            "               Class     Images     Labels          P          R     mAP@.5 mAP@.5:.95: 100% 1/1 [00:00<00:00,  1.39it/s]\n",
            "                 all         54         61      0.773      0.559      0.795      0.391\n",
            "\n",
            "     Epoch   gpu_mem       box       obj       cls    labels  img_size\n",
            "      4/34     12.8G   0.04298    0.0167   0.01203        87       416: 100% 22/22 [00:37<00:00,  1.71s/it]\n",
            "               Class     Images     Labels          P          R     mAP@.5 mAP@.5:.95: 100% 1/1 [00:00<00:00,  1.42it/s]\n",
            "                 all         54         61      0.787      0.486      0.687      0.321\n",
            "\n",
            "     Epoch   gpu_mem       box       obj       cls    labels  img_size\n",
            "      5/34     12.8G    0.0398   0.01657   0.01243       103       416: 100% 22/22 [00:37<00:00,  1.72s/it]\n",
            "               Class     Images     Labels          P          R     mAP@.5 mAP@.5:.95: 100% 1/1 [00:00<00:00,  1.41it/s]\n",
            "                 all         54         61      0.619      0.409      0.533      0.234\n",
            "\n",
            "     Epoch   gpu_mem       box       obj       cls    labels  img_size\n",
            "      6/34     12.8G    0.0372   0.01624  0.009697        88       416: 100% 22/22 [00:37<00:00,  1.71s/it]\n",
            "               Class     Images     Labels          P          R     mAP@.5 mAP@.5:.95: 100% 1/1 [00:00<00:00,  1.41it/s]\n",
            "                 all         54         61      0.703      0.641      0.771      0.411\n",
            "\n",
            "     Epoch   gpu_mem       box       obj       cls    labels  img_size\n",
            "      7/34     12.8G   0.03555   0.01612  0.008291       111       416: 100% 22/22 [00:37<00:00,  1.71s/it]\n",
            "               Class     Images     Labels          P          R     mAP@.5 mAP@.5:.95: 100% 1/1 [00:00<00:00,  1.41it/s]\n",
            "                 all         54         61      0.783      0.814      0.875      0.524\n",
            "\n",
            "     Epoch   gpu_mem       box       obj       cls    labels  img_size\n",
            "      8/34     12.8G   0.03315   0.01538  0.007995        87       416: 100% 22/22 [00:37<00:00,  1.71s/it]\n",
            "               Class     Images     Labels          P          R     mAP@.5 mAP@.5:.95: 100% 1/1 [00:00<00:00,  1.43it/s]\n",
            "                 all         54         61      0.714      0.809       0.78      0.444\n",
            "\n",
            "     Epoch   gpu_mem       box       obj       cls    labels  img_size\n",
            "      9/34     12.8G   0.03184   0.01474  0.007536       105       416: 100% 22/22 [00:37<00:00,  1.71s/it]\n",
            "               Class     Images     Labels          P          R     mAP@.5 mAP@.5:.95: 100% 1/1 [00:00<00:00,  1.39it/s]\n",
            "                 all         54         61       0.85      0.648      0.851      0.568\n",
            "\n",
            "     Epoch   gpu_mem       box       obj       cls    labels  img_size\n",
            "     10/34     12.8G   0.03062   0.01505  0.006976       108       416: 100% 22/22 [00:37<00:00,  1.71s/it]\n",
            "               Class     Images     Labels          P          R     mAP@.5 mAP@.5:.95: 100% 1/1 [00:00<00:00,  1.39it/s]\n",
            "                 all         54         61      0.897      0.868      0.938      0.622\n",
            "\n",
            "     Epoch   gpu_mem       box       obj       cls    labels  img_size\n",
            "     11/34     12.8G   0.02942   0.01458  0.006058       108       416: 100% 22/22 [00:37<00:00,  1.71s/it]\n",
            "               Class     Images     Labels          P          R     mAP@.5 mAP@.5:.95: 100% 1/1 [00:00<00:00,  1.42it/s]\n",
            "                 all         54         61      0.808      0.908      0.933      0.571\n",
            "\n",
            "     Epoch   gpu_mem       box       obj       cls    labels  img_size\n",
            "     12/34     12.8G   0.02937   0.01461  0.007742       116       416: 100% 22/22 [00:37<00:00,  1.71s/it]\n",
            "               Class     Images     Labels          P          R     mAP@.5 mAP@.5:.95: 100% 1/1 [00:00<00:00,  1.41it/s]\n",
            "                 all         54         61      0.973      0.771      0.953      0.642\n",
            "\n",
            "     Epoch   gpu_mem       box       obj       cls    labels  img_size\n",
            "     13/34     12.8G   0.02754   0.01404  0.006413       111       416: 100% 22/22 [00:37<00:00,  1.71s/it]\n",
            "               Class     Images     Labels          P          R     mAP@.5 mAP@.5:.95: 100% 1/1 [00:00<00:00,  1.42it/s]\n",
            "                 all         54         61      0.792      0.888       0.93      0.616\n",
            "\n",
            "     Epoch   gpu_mem       box       obj       cls    labels  img_size\n",
            "     14/34     12.8G   0.02826    0.0139  0.005742       111       416: 100% 22/22 [00:37<00:00,  1.71s/it]\n",
            "               Class     Images     Labels          P          R     mAP@.5 mAP@.5:.95: 100% 1/1 [00:00<00:00,  1.34it/s]\n",
            "                 all         54         61      0.852      0.839       0.93      0.681\n",
            "\n",
            "     Epoch   gpu_mem       box       obj       cls    labels  img_size\n",
            "     15/34     12.8G   0.02764   0.01344  0.005224       110       416: 100% 22/22 [00:37<00:00,  1.71s/it]\n",
            "               Class     Images     Labels          P          R     mAP@.5 mAP@.5:.95: 100% 1/1 [00:00<00:00,  1.41it/s]\n",
            "                 all         54         61      0.975      0.993      0.995      0.696\n",
            "\n",
            "     Epoch   gpu_mem       box       obj       cls    labels  img_size\n",
            "     16/34     12.8G   0.02738   0.01326   0.00565       109       416: 100% 22/22 [00:37<00:00,  1.71s/it]\n",
            "               Class     Images     Labels          P          R     mAP@.5 mAP@.5:.95: 100% 1/1 [00:00<00:00,  1.41it/s]\n",
            "                 all         54         61      0.919      0.869       0.92      0.655\n",
            "\n",
            "     Epoch   gpu_mem       box       obj       cls    labels  img_size\n",
            "     17/34     12.8G    0.0262   0.01299  0.007284        99       416: 100% 22/22 [00:37<00:00,  1.71s/it]\n",
            "               Class     Images     Labels          P          R     mAP@.5 mAP@.5:.95: 100% 1/1 [00:00<00:00,  1.40it/s]\n",
            "                 all         54         61      0.949      0.903      0.919      0.628\n",
            "\n",
            "     Epoch   gpu_mem       box       obj       cls    labels  img_size\n",
            "     18/34     12.8G   0.02469   0.01292  0.004406       102       416: 100% 22/22 [00:37<00:00,  1.71s/it]\n",
            "               Class     Images     Labels          P          R     mAP@.5 mAP@.5:.95: 100% 1/1 [00:00<00:00,  1.39it/s]\n",
            "                 all         54         61      0.895       0.94      0.955      0.688\n",
            "\n",
            "     Epoch   gpu_mem       box       obj       cls    labels  img_size\n",
            "     19/34     12.8G   0.02503   0.01265  0.003853       100       416: 100% 22/22 [00:37<00:00,  1.71s/it]\n",
            "               Class     Images     Labels          P          R     mAP@.5 mAP@.5:.95: 100% 1/1 [00:00<00:00,  1.41it/s]\n",
            "                 all         54         61      0.946      0.865      0.976       0.68\n",
            "\n",
            "     Epoch   gpu_mem       box       obj       cls    labels  img_size\n",
            "     20/34     12.8G   0.02431   0.01221  0.004351       113       416: 100% 22/22 [00:37<00:00,  1.71s/it]\n",
            "               Class     Images     Labels          P          R     mAP@.5 mAP@.5:.95: 100% 1/1 [00:00<00:00,  1.42it/s]\n",
            "                 all         54         61      0.916      0.919      0.965      0.699\n",
            "\n",
            "     Epoch   gpu_mem       box       obj       cls    labels  img_size\n",
            "     21/34     12.8G   0.02306    0.0122  0.004421       114       416: 100% 22/22 [00:37<00:00,  1.72s/it]\n",
            "               Class     Images     Labels          P          R     mAP@.5 mAP@.5:.95: 100% 1/1 [00:00<00:00,  1.40it/s]\n",
            "                 all         54         61      0.898      0.914      0.914       0.68\n",
            "\n",
            "     Epoch   gpu_mem       box       obj       cls    labels  img_size\n",
            "     22/34     12.8G   0.02307   0.01221  0.003924       108       416: 100% 22/22 [00:37<00:00,  1.71s/it]\n",
            "               Class     Images     Labels          P          R     mAP@.5 mAP@.5:.95: 100% 1/1 [00:00<00:00,  1.40it/s]\n",
            "                 all         54         61      0.884      0.888      0.914      0.679\n",
            "\n",
            "     Epoch   gpu_mem       box       obj       cls    labels  img_size\n",
            "     23/34     12.8G   0.02254   0.01195  0.003282        97       416: 100% 22/22 [00:37<00:00,  1.71s/it]\n",
            "               Class     Images     Labels          P          R     mAP@.5 mAP@.5:.95: 100% 1/1 [00:00<00:00,  1.40it/s]\n",
            "                 all         54         61       0.94      0.876       0.97      0.707\n",
            "\n",
            "     Epoch   gpu_mem       box       obj       cls    labels  img_size\n",
            "     24/34     12.8G   0.02162   0.01126  0.003954       104       416: 100% 22/22 [00:37<00:00,  1.71s/it]\n",
            "               Class     Images     Labels          P          R     mAP@.5 mAP@.5:.95: 100% 1/1 [00:00<00:00,  1.42it/s]\n",
            "                 all         54         61       0.92      0.873      0.925      0.685\n",
            "\n",
            "     Epoch   gpu_mem       box       obj       cls    labels  img_size\n",
            "     25/34     12.8G   0.02172   0.01187  0.003472       110       416: 100% 22/22 [00:37<00:00,  1.71s/it]\n",
            "               Class     Images     Labels          P          R     mAP@.5 mAP@.5:.95: 100% 1/1 [00:00<00:00,  1.33it/s]\n",
            "                 all         54         61      0.907      0.878      0.948      0.717\n",
            "\n",
            "     Epoch   gpu_mem       box       obj       cls    labels  img_size\n",
            "     26/34     12.8G   0.02181   0.01158   0.00405       108       416: 100% 22/22 [00:37<00:00,  1.71s/it]\n",
            "               Class     Images     Labels          P          R     mAP@.5 mAP@.5:.95: 100% 1/1 [00:00<00:00,  1.42it/s]\n",
            "                 all         54         61      0.917      0.858      0.913       0.67\n",
            "\n",
            "     Epoch   gpu_mem       box       obj       cls    labels  img_size\n",
            "     27/34     12.8G   0.02098   0.01149  0.002806       107       416: 100% 22/22 [00:37<00:00,  1.71s/it]\n",
            "               Class     Images     Labels          P          R     mAP@.5 mAP@.5:.95: 100% 1/1 [00:00<00:00,  1.41it/s]\n",
            "                 all         54         61      0.946      0.895      0.952      0.701\n",
            "\n",
            "     Epoch   gpu_mem       box       obj       cls    labels  img_size\n",
            "     28/34     12.8G   0.02033   0.01133  0.002425       129       416: 100% 22/22 [00:37<00:00,  1.71s/it]\n",
            "               Class     Images     Labels          P          R     mAP@.5 mAP@.5:.95: 100% 1/1 [00:00<00:00,  1.41it/s]\n",
            "                 all         54         61      0.954       0.88      0.916      0.686\n",
            "\n",
            "     Epoch   gpu_mem       box       obj       cls    labels  img_size\n",
            "     29/34     12.8G   0.02006   0.01085   0.00323       106       416: 100% 22/22 [00:37<00:00,  1.71s/it]\n",
            "               Class     Images     Labels          P          R     mAP@.5 mAP@.5:.95: 100% 1/1 [00:00<00:00,  1.39it/s]\n",
            "                 all         54         61       0.92      0.905      0.917      0.648\n",
            "\n",
            "     Epoch   gpu_mem       box       obj       cls    labels  img_size\n",
            "     30/34     12.8G   0.01997   0.01094  0.002784       100       416: 100% 22/22 [00:37<00:00,  1.71s/it]\n",
            "               Class     Images     Labels          P          R     mAP@.5 mAP@.5:.95: 100% 1/1 [00:00<00:00,  1.39it/s]\n",
            "                 all         54         61      0.939      0.903      0.945      0.688\n",
            "\n",
            "     Epoch   gpu_mem       box       obj       cls    labels  img_size\n",
            "     31/34     12.8G     0.019   0.01069  0.002621       104       416: 100% 22/22 [00:37<00:00,  1.71s/it]\n",
            "               Class     Images     Labels          P          R     mAP@.5 mAP@.5:.95: 100% 1/1 [00:00<00:00,  1.41it/s]\n",
            "                 all         54         61      0.908      0.903      0.951      0.708\n",
            "\n",
            "     Epoch   gpu_mem       box       obj       cls    labels  img_size\n",
            "     32/34     12.8G   0.01851   0.01077  0.002466        99       416: 100% 22/22 [00:37<00:00,  1.71s/it]\n",
            "               Class     Images     Labels          P          R     mAP@.5 mAP@.5:.95: 100% 1/1 [00:00<00:00,  1.41it/s]\n",
            "                 all         54         61      0.909      0.909      0.915      0.696\n",
            "\n",
            "     Epoch   gpu_mem       box       obj       cls    labels  img_size\n",
            "     33/34     12.8G     0.018   0.01027  0.002443       116       416: 100% 22/22 [00:37<00:00,  1.72s/it]\n",
            "               Class     Images     Labels          P          R     mAP@.5 mAP@.5:.95: 100% 1/1 [00:00<00:00,  1.36it/s]\n",
            "                 all         54         61      0.893      0.925      0.937      0.736\n",
            "\n",
            "     Epoch   gpu_mem       box       obj       cls    labels  img_size\n",
            "     34/34     12.8G   0.01796   0.01024  0.002571       101       416: 100% 22/22 [00:37<00:00,  1.71s/it]\n",
            "               Class     Images     Labels          P          R     mAP@.5 mAP@.5:.95: 100% 1/1 [00:00<00:00,  1.40it/s]\n",
            "                 all         54         61      0.948      0.887      0.926      0.715\n",
            "\n",
            "35 epochs completed in 0.392 hours.\n",
            "Optimizer stripped from runs/train/test03_result4/weights/last.pt, 92.8MB\n",
            "Optimizer stripped from runs/train/test03_result4/weights/best.pt, 92.8MB\n",
            "\n",
            "Validating runs/train/test03_result4/weights/best.pt...\n",
            "Fusing layers... \n",
            "YOLOv5l summary: 367 layers, 46119048 parameters, 0 gradients\n",
            "               Class     Images     Labels          P          R     mAP@.5 mAP@.5:.95: 100% 1/1 [00:00<00:00,  1.22it/s]\n",
            "                 all         54         61      0.893      0.926      0.937      0.736\n",
            "              bottom         54         41      0.976      0.984      0.994      0.788\n",
            "        bottom_short         54         15      0.882      0.993      0.951      0.661\n",
            "                 top         54          5      0.821        0.8      0.866       0.76\n",
            "Results saved to \u001b[1mruns/train/test03_result4\u001b[0m\n"
          ]
        }
      ],
      "source": [
        "# 라벨인식을 못하는 문제 발생함 !!!! 확인할것. \n",
        "# 이미지와 라벨파일을 같은 txt에 추가하여 해결함 \n",
        "# yolov5s 가장 가벼운 모델 , yolov5l은 무거운 모델 성능이 조금 더 좋음 \n",
        "\n",
        "%cd /content/yolov5/\n",
        "\n",
        "!python train.py --img 416 --batch 50 --epochs 35 \\\n",
        "--data /content/test03-3/data.yaml \\\n",
        "--cfg ./models/yolov5l.yaml \\\n",
        "--weights yolov5l.pt \\\n",
        "--name test03_result"
      ]
    },
    {
      "cell_type": "code",
      "execution_count": null,
      "metadata": {
        "id": "Z7U8U_8D4VaG",
        "colab": {
          "base_uri": "https://localhost:8080/"
        },
        "outputId": "8e749098-573f-40d2-9337-1bac205f0956"
      },
      "outputs": [
        {
          "output_type": "stream",
          "name": "stdout",
          "text": [
            "\u001b[34m\u001b[1mdetect: \u001b[0mweights=['/content/yolov5/runs/train/test02_result3/weights/best.pt'], source=/content/test03-1/test/images/, data=data/coco128.yaml, imgsz=[416, 416], conf_thres=0.65, iou_thres=0.45, max_det=1000, device=, view_img=False, save_txt=False, save_conf=False, save_crop=False, nosave=False, classes=None, agnostic_nms=False, augment=False, visualize=False, update=False, project=runs/detect, name=exp, exist_ok=False, line_thickness=3, hide_labels=False, hide_conf=False, half=False, dnn=False\n",
            "YOLOv5 🚀 v6.1-243-g7cef03d Python-3.7.13 torch-1.11.0+cu113 CUDA:0 (Tesla P100-PCIE-16GB, 16281MiB)\n",
            "\n",
            "Fusing layers... \n",
            "YOLOv5s summary: 213 layers, 7015519 parameters, 0 gradients\n",
            "image 1/10 /content/test03-1/test/images/test62_jpg.rf.86c1910bf5f74be641c4425a1b634a71.jpg: 416x416 1 bottom, Done. (0.007s)\n",
            "image 2/10 /content/test03-1/test/images/test63_jpg.rf.07b9b04ac10bccfe7c137829ce166c83.jpg: 416x416 1 bottom, Done. (0.007s)\n",
            "image 3/10 /content/test03-1/test/images/test64_jpg.rf.63a4f7127eb451a7846ce7276f43f1a5.jpg: 416x416 1 bottom, Done. (0.007s)\n",
            "image 4/10 /content/test03-1/test/images/test65_jpg.rf.3695abc2c24d73613cf850e50bb31ba6.jpg: 416x416 1 bottom, Done. (0.007s)\n",
            "image 5/10 /content/test03-1/test/images/test66_jpg.rf.b1a76e092a521e2961b8ef58e1eda6af.jpg: 416x416 1 bottom, Done. (0.007s)\n",
            "image 6/10 /content/test03-1/test/images/test67_jpg.rf.20fd4c2c4cf833111e50a3ba22847645.jpg: 416x416 1 bottom, Done. (0.007s)\n",
            "image 7/10 /content/test03-1/test/images/test68_jpg.rf.7acd35ae1325d4a1f33d31ae45dfbbc2.jpg: 416x416 1 bottom, Done. (0.009s)\n",
            "image 8/10 /content/test03-1/test/images/test69_jpg.rf.3d271bf415045f575e905f91261ccf31.jpg: 416x416 1 bottom, Done. (0.007s)\n",
            "image 9/10 /content/test03-1/test/images/test70_jpg.rf.9429177f2c3c180c27fd5935ef260a2a.jpg: 416x416 1 bottom, Done. (0.007s)\n",
            "image 10/10 /content/test03-1/test/images/test7_jpg.rf.00e8d1ed03518fb4826357649e901cd5.jpg: 416x416 1 bottom, 1 top, Done. (0.007s)\n",
            "Speed: 0.3ms pre-process, 7.0ms inference, 0.9ms NMS per image at shape (1, 3, 416, 416)\n",
            "Results saved to \u001b[1mruns/detect/exp4\u001b[0m\n"
          ]
        }
      ],
      "source": [
        "# 추론하기 \n",
        "from IPython.display import Image\n",
        "import os\n",
        "\n",
        "\n",
        "# /content/test03-2/test/images/ 이미지파일 판정\n",
        "\n",
        "!python detect.py  --source /content/test03-3/test --weights /content/yolov5/runs/train/test02_result3/weights/best.pt \\\n",
        " --img 416 --conf 0.5 --source /content/test03-1/test/images/"
      ]
    },
    {
      "cell_type": "code",
      "execution_count": null,
      "metadata": {
        "id": "y1MO0_-d4VfW"
      },
      "outputs": [],
      "source": [
        ""
      ]
    },
    {
      "cell_type": "code",
      "execution_count": null,
      "metadata": {
        "id": "QBr1pXjJ4Vji"
      },
      "outputs": [],
      "source": [
        ""
      ]
    },
    {
      "cell_type": "code",
      "execution_count": null,
      "metadata": {
        "id": "8RJNYyTp4VmZ"
      },
      "outputs": [],
      "source": [
        ""
      ]
    },
    {
      "cell_type": "code",
      "execution_count": null,
      "metadata": {
        "id": "ZgvsaC-s4VpX"
      },
      "outputs": [],
      "source": [
        ""
      ]
    },
    {
      "cell_type": "code",
      "execution_count": null,
      "metadata": {
        "id": "auU155IE4VsF"
      },
      "outputs": [],
      "source": [
        ""
      ]
    },
    {
      "cell_type": "code",
      "execution_count": null,
      "metadata": {
        "id": "C7TJ24O84Vun"
      },
      "outputs": [],
      "source": [
        ""
      ]
    },
    {
      "cell_type": "code",
      "execution_count": null,
      "metadata": {
        "id": "GCyE2RdK4Vxr"
      },
      "outputs": [],
      "source": [
        ""
      ]
    }
  ],
  "metadata": {
    "accelerator": "GPU",
    "colab": {
      "name": "test03_cloths.ipynb의 사본",
      "provenance": [],
      "collapsed_sections": [],
      "authorship_tag": "ABX9TyMEwFey+4O8ZamuzNAzPqRy",
      "include_colab_link": true
    },
    "kernelspec": {
      "display_name": "Python 3",
      "name": "python3"
    },
    "language_info": {
      "name": "python"
    }
  },
  "nbformat": 4,
  "nbformat_minor": 0
}